{
  "nbformat": 4,
  "nbformat_minor": 0,
  "metadata": {
    "colab": {
      "name": "reutersdata-keras-modeling_final.ipynb",
      "provenance": [],
      "include_colab_link": true
    },
    "kernelspec": {
      "name": "python3",
      "display_name": "Python 3"
    }
  },
  "cells": [
    {
      "cell_type": "markdown",
      "metadata": {
        "id": "view-in-github",
        "colab_type": "text"
      },
      "source": [
        "<a href=\"https://colab.research.google.com/github/sadidhasan/text-classification/blob/main/reutersdata_keras_modeling_final.ipynb\" target=\"_parent\"><img src=\"https://colab.research.google.com/assets/colab-badge.svg\" alt=\"Open In Colab\"/></a>"
      ]
    },
    {
      "cell_type": "code",
      "metadata": {
        "id": "qK4WjXXpCv7L",
        "colab": {
          "base_uri": "https://localhost:8080/",
          "height": 35
        },
        "outputId": "07e2d072-2b0b-426c-ba13-10ce06bf3a79"
      },
      "source": [
        "import keras\n",
        "keras.__version__"
      ],
      "execution_count": 75,
      "outputs": [
        {
          "output_type": "execute_result",
          "data": {
            "application/vnd.google.colaboratory.intrinsic+json": {
              "type": "string"
            },
            "text/plain": [
              "'2.6.0'"
            ]
          },
          "metadata": {},
          "execution_count": 75
        }
      ]
    },
    {
      "cell_type": "code",
      "metadata": {
        "id": "CMabsszEC9Ck"
      },
      "source": [
        "#load data available in keras\n",
        "from keras.datasets import reuters\n",
        "\n",
        "(train_data, train_labels), (test_data, test_labels) = reuters.load_data(num_words=10000)"
      ],
      "execution_count": 76,
      "outputs": []
    },
    {
      "cell_type": "code",
      "metadata": {
        "colab": {
          "base_uri": "https://localhost:8080/"
        },
        "id": "EGUmrpE1-qD7",
        "outputId": "e71a05f4-1d5a-44f0-92d6-c828263cf4fd"
      },
      "source": [
        "#understanding the dataset\n",
        "import numpy as np\n",
        "\n",
        "print(\"The number of training samples\",len(train_data))\n",
        "print(\"The number of testing samples\",len(test_data))\n",
        "print(\"The shape of training samples array\",np.shape(train_data))\n",
        "print(\"The shape of training samples labels\", np.shape(train_labels))\n",
        "print(\"Type of first element in train_data:\",type(train_data[0]),\", and its shape :\",np.shape(train_data[0]))"
      ],
      "execution_count": 77,
      "outputs": [
        {
          "output_type": "stream",
          "name": "stdout",
          "text": [
            "The number of training samples 8982\n",
            "The number of testing samples 2246\n",
            "The shape of training samples array (8982,)\n",
            "The shape of training samples labels (8982,)\n",
            "Type of first element in train_data: <class 'list'> , and its shape : (87,)\n"
          ]
        }
      ]
    },
    {
      "cell_type": "code",
      "metadata": {
        "id": "HU_5TV50Dit9",
        "colab": {
          "base_uri": "https://localhost:8080/"
        },
        "outputId": "3e4a7782-274e-46a5-e895-ad546fce806c"
      },
      "source": [
        "#word index to text mapping for checking purposes\n",
        "word_index = reuters.get_word_index()\n",
        "\n",
        "reverse_word_index = dict([(value, key) for (key, value) in word_index.items()])\n",
        "\n",
        "def decode_review(text):\n",
        "    return ' '.join([reverse_word_index.get(i, '?') for i in text])\n",
        "\n",
        "print('\\nFirst Review \\n')\n",
        "print(decode_review(train_data[0]))\n",
        "print('\\nIts label :',train_labels[0])\n",
        "\n",
        "print('\\nSecond Review \\n')\n",
        "print(decode_review(train_data[1]))\n",
        "print('\\nIts label :',train_labels[1])"
      ],
      "execution_count": 78,
      "outputs": [
        {
          "output_type": "stream",
          "name": "stdout",
          "text": [
            "\n",
            "First Review \n",
            "\n",
            "the of of mln loss for plc said at only ended said commonwealth could 1 traders now april 0 a after said from 1985 and from foreign 000 april 0 prices its account year a but in this mln home an states earlier and rise and revs vs 000 its 16 vs 000 a but 3 psbr oils several and shareholders and dividend vs 000 its all 4 vs 000 1 mln agreed largely april 0 are 2 states will billion total and against 000 pct dlrs\n",
            "\n",
            "Its label : 3\n",
            "\n",
            "Second Review \n",
            "\n",
            "the termination payment airport takes 6 of geological 3 6 602 begin up said fully bank expects commodity total is giant a of this takes of series termination payment airport mln a for capital 1 pre 50 american east said in council takes of of france a but u any 4 s 1st losses pct dlrs\n",
            "\n",
            "Its label : 4\n"
          ]
        }
      ]
    },
    {
      "cell_type": "code",
      "metadata": {
        "id": "p9VRL3FfEAlB"
      },
      "source": [
        "import numpy as np\n",
        "\n",
        "def vectorize_sequences(sequences, dimension=10000):\n",
        "    results = np.zeros((len(sequences), dimension))\n",
        "    for i, sequence in enumerate(sequences):\n",
        "        results[i, sequence] = 1.\n",
        "    return results"
      ],
      "execution_count": 79,
      "outputs": []
    },
    {
      "cell_type": "code",
      "metadata": {
        "id": "s4AKmaG3EELE"
      },
      "source": [
        "# Training data\n",
        "x_train = vectorize_sequences(train_data)\n",
        "# Test data\n",
        "x_test = vectorize_sequences(test_data)"
      ],
      "execution_count": 80,
      "outputs": []
    },
    {
      "cell_type": "code",
      "metadata": {
        "id": "qweHrwXmELn_"
      },
      "source": [
        "def to_one_hot(labels, dimension=46):\n",
        "    results = np.zeros((len(labels), dimension))\n",
        "    for i, label in enumerate(labels):\n",
        "        results[i, label] = 1.\n",
        "    return results\n"
      ],
      "execution_count": 81,
      "outputs": []
    },
    {
      "cell_type": "code",
      "metadata": {
        "id": "GnGJC8-mEP5r"
      },
      "source": [
        "# Vectorized training labels\n",
        "one_hot_train_labels = to_one_hot(train_labels)\n",
        "# Vectorized test labels\n",
        "one_hot_test_labels = to_one_hot(test_labels)"
      ],
      "execution_count": 82,
      "outputs": []
    },
    {
      "cell_type": "code",
      "metadata": {
        "id": "0y6q-7KGEZEc"
      },
      "source": [
        "from keras.utils.np_utils import to_categorical\n",
        "\n",
        "one_hot_train_labels = to_categorical(train_labels)\n",
        "one_hot_test_labels = to_categorical(test_labels)"
      ],
      "execution_count": 83,
      "outputs": []
    },
    {
      "cell_type": "code",
      "metadata": {
        "id": "W2KN1RVTEb_l"
      },
      "source": [
        "#build a MLP model\n",
        "from keras import models\n",
        "from keras import layers\n",
        "\n",
        "model = models.Sequential()\n",
        "model.add(layers.Dense(64, activation='relu', input_shape=(10000,)))\n",
        "model.add(layers.Dense(64, activation='relu'))\n",
        "model.add(layers.Dense(46, activation='softmax'))"
      ],
      "execution_count": 84,
      "outputs": []
    },
    {
      "cell_type": "code",
      "metadata": {
        "id": "KeT9JeeZEfTs"
      },
      "source": [
        "model.compile(optimizer='rmsprop',\n",
        "              loss='categorical_crossentropy',\n",
        "              metrics=['accuracy'])"
      ],
      "execution_count": 85,
      "outputs": []
    },
    {
      "cell_type": "code",
      "metadata": {
        "id": "RpKCwo17EjPB"
      },
      "source": [
        "# separate out a validation set from training data\n",
        "x_val = x_train[:1000]\n",
        "partial_x_train = x_train[1000:]"
      ],
      "execution_count": 86,
      "outputs": []
    },
    {
      "cell_type": "code",
      "metadata": {
        "id": "jh2TNKUVErZa"
      },
      "source": [
        "y_val = one_hot_train_labels[:1000]\n",
        "partial_y_train = one_hot_train_labels[1000:]"
      ],
      "execution_count": 87,
      "outputs": []
    },
    {
      "cell_type": "code",
      "metadata": {
        "id": "D5mxgd-wEt4J",
        "colab": {
          "base_uri": "https://localhost:8080/"
        },
        "outputId": "1c2fdff8-7eb4-4b90-eb26-3a4dcd59b0f8"
      },
      "source": [
        "history = model.fit(partial_x_train,\n",
        "                    partial_y_train,\n",
        "                    epochs=50,\n",
        "                    batch_size=128,\n",
        "                    validation_data=(x_val, y_val))"
      ],
      "execution_count": 88,
      "outputs": [
        {
          "output_type": "stream",
          "name": "stdout",
          "text": [
            "Epoch 1/50\n",
            "63/63 [==============================] - 1s 13ms/step - loss: 1.8607 - accuracy: 0.6362 - val_loss: 1.2268 - val_accuracy: 0.7300\n",
            "Epoch 2/50\n",
            "63/63 [==============================] - 1s 12ms/step - loss: 0.9648 - accuracy: 0.7895 - val_loss: 1.0234 - val_accuracy: 0.7720\n",
            "Epoch 3/50\n",
            "63/63 [==============================] - 1s 12ms/step - loss: 0.6501 - accuracy: 0.8596 - val_loss: 0.8932 - val_accuracy: 0.8080\n",
            "Epoch 4/50\n",
            "63/63 [==============================] - 1s 12ms/step - loss: 0.4453 - accuracy: 0.9054 - val_loss: 0.8656 - val_accuracy: 0.8120\n",
            "Epoch 5/50\n",
            "63/63 [==============================] - 1s 12ms/step - loss: 0.3223 - accuracy: 0.9295 - val_loss: 0.9513 - val_accuracy: 0.8010\n",
            "Epoch 6/50\n",
            "63/63 [==============================] - 1s 12ms/step - loss: 0.2502 - accuracy: 0.9412 - val_loss: 0.8922 - val_accuracy: 0.8240\n",
            "Epoch 7/50\n",
            "63/63 [==============================] - 1s 11ms/step - loss: 0.2048 - accuracy: 0.9513 - val_loss: 1.0059 - val_accuracy: 0.8000\n",
            "Epoch 8/50\n",
            "63/63 [==============================] - 1s 12ms/step - loss: 0.1778 - accuracy: 0.9520 - val_loss: 1.0249 - val_accuracy: 0.7980\n",
            "Epoch 9/50\n",
            "63/63 [==============================] - 1s 12ms/step - loss: 0.1676 - accuracy: 0.9534 - val_loss: 0.9658 - val_accuracy: 0.8170\n",
            "Epoch 10/50\n",
            "63/63 [==============================] - 1s 11ms/step - loss: 0.1489 - accuracy: 0.9551 - val_loss: 1.0937 - val_accuracy: 0.7970\n",
            "Epoch 11/50\n",
            "63/63 [==============================] - 1s 11ms/step - loss: 0.1391 - accuracy: 0.9559 - val_loss: 1.0738 - val_accuracy: 0.8030\n",
            "Epoch 12/50\n",
            "63/63 [==============================] - 1s 12ms/step - loss: 0.1346 - accuracy: 0.9564 - val_loss: 1.0449 - val_accuracy: 0.7990\n",
            "Epoch 13/50\n",
            "63/63 [==============================] - 1s 12ms/step - loss: 0.1254 - accuracy: 0.9564 - val_loss: 1.1054 - val_accuracy: 0.8000\n",
            "Epoch 14/50\n",
            "63/63 [==============================] - 1s 12ms/step - loss: 0.1238 - accuracy: 0.9567 - val_loss: 1.1521 - val_accuracy: 0.7950\n",
            "Epoch 15/50\n",
            "63/63 [==============================] - 1s 12ms/step - loss: 0.1208 - accuracy: 0.9568 - val_loss: 1.1219 - val_accuracy: 0.8120\n",
            "Epoch 16/50\n",
            "63/63 [==============================] - 1s 12ms/step - loss: 0.1172 - accuracy: 0.9583 - val_loss: 1.1189 - val_accuracy: 0.7960\n",
            "Epoch 17/50\n",
            "63/63 [==============================] - 1s 11ms/step - loss: 0.1149 - accuracy: 0.9584 - val_loss: 1.1691 - val_accuracy: 0.7970\n",
            "Epoch 18/50\n",
            "63/63 [==============================] - 1s 12ms/step - loss: 0.1108 - accuracy: 0.9573 - val_loss: 1.2204 - val_accuracy: 0.7980\n",
            "Epoch 19/50\n",
            "63/63 [==============================] - 1s 12ms/step - loss: 0.1113 - accuracy: 0.9549 - val_loss: 1.1960 - val_accuracy: 0.7930\n",
            "Epoch 20/50\n",
            "63/63 [==============================] - 1s 12ms/step - loss: 0.1062 - accuracy: 0.9573 - val_loss: 1.2531 - val_accuracy: 0.7880\n",
            "Epoch 21/50\n",
            "63/63 [==============================] - 1s 11ms/step - loss: 0.1017 - accuracy: 0.9573 - val_loss: 1.2554 - val_accuracy: 0.8000\n",
            "Epoch 22/50\n",
            "63/63 [==============================] - 1s 12ms/step - loss: 0.0984 - accuracy: 0.9587 - val_loss: 1.2412 - val_accuracy: 0.7970\n",
            "Epoch 23/50\n",
            "63/63 [==============================] - 1s 12ms/step - loss: 0.1000 - accuracy: 0.9568 - val_loss: 1.3563 - val_accuracy: 0.7900\n",
            "Epoch 24/50\n",
            "63/63 [==============================] - 1s 12ms/step - loss: 0.0939 - accuracy: 0.9589 - val_loss: 1.3333 - val_accuracy: 0.7910\n",
            "Epoch 25/50\n",
            "63/63 [==============================] - 1s 11ms/step - loss: 0.0952 - accuracy: 0.9577 - val_loss: 1.3325 - val_accuracy: 0.7930\n",
            "Epoch 26/50\n",
            "63/63 [==============================] - 1s 12ms/step - loss: 0.0938 - accuracy: 0.9573 - val_loss: 1.4226 - val_accuracy: 0.7850\n",
            "Epoch 27/50\n",
            "63/63 [==============================] - 1s 12ms/step - loss: 0.0900 - accuracy: 0.9579 - val_loss: 1.4014 - val_accuracy: 0.7890\n",
            "Epoch 28/50\n",
            "63/63 [==============================] - 1s 12ms/step - loss: 0.0895 - accuracy: 0.9593 - val_loss: 1.4345 - val_accuracy: 0.7910\n",
            "Epoch 29/50\n",
            "63/63 [==============================] - 1s 12ms/step - loss: 0.0870 - accuracy: 0.9575 - val_loss: 1.5307 - val_accuracy: 0.7910\n",
            "Epoch 30/50\n",
            "63/63 [==============================] - 1s 11ms/step - loss: 0.0855 - accuracy: 0.9572 - val_loss: 1.5418 - val_accuracy: 0.7920\n",
            "Epoch 31/50\n",
            "63/63 [==============================] - 1s 12ms/step - loss: 0.0842 - accuracy: 0.9578 - val_loss: 1.5982 - val_accuracy: 0.7850\n",
            "Epoch 32/50\n",
            "63/63 [==============================] - 1s 12ms/step - loss: 0.0841 - accuracy: 0.9568 - val_loss: 1.5974 - val_accuracy: 0.7950\n",
            "Epoch 33/50\n",
            "63/63 [==============================] - 1s 12ms/step - loss: 0.0816 - accuracy: 0.9577 - val_loss: 1.7686 - val_accuracy: 0.7770\n",
            "Epoch 34/50\n",
            "63/63 [==============================] - 1s 12ms/step - loss: 0.0796 - accuracy: 0.9583 - val_loss: 1.6434 - val_accuracy: 0.7860\n",
            "Epoch 35/50\n",
            "63/63 [==============================] - 1s 12ms/step - loss: 0.0796 - accuracy: 0.9582 - val_loss: 1.7034 - val_accuracy: 0.7790\n",
            "Epoch 36/50\n",
            "63/63 [==============================] - 1s 12ms/step - loss: 0.0777 - accuracy: 0.9572 - val_loss: 1.9390 - val_accuracy: 0.7700\n",
            "Epoch 37/50\n",
            "63/63 [==============================] - 1s 12ms/step - loss: 0.0774 - accuracy: 0.9573 - val_loss: 1.7836 - val_accuracy: 0.7860\n",
            "Epoch 38/50\n",
            "63/63 [==============================] - 1s 12ms/step - loss: 0.0764 - accuracy: 0.9580 - val_loss: 1.9016 - val_accuracy: 0.7690\n",
            "Epoch 39/50\n",
            "63/63 [==============================] - 1s 12ms/step - loss: 0.0747 - accuracy: 0.9577 - val_loss: 1.9502 - val_accuracy: 0.7750\n",
            "Epoch 40/50\n",
            "63/63 [==============================] - 1s 11ms/step - loss: 0.0740 - accuracy: 0.9572 - val_loss: 1.9420 - val_accuracy: 0.7770\n",
            "Epoch 41/50\n",
            "63/63 [==============================] - 1s 12ms/step - loss: 0.0727 - accuracy: 0.9580 - val_loss: 2.0850 - val_accuracy: 0.7830\n",
            "Epoch 42/50\n",
            "63/63 [==============================] - 1s 12ms/step - loss: 0.0726 - accuracy: 0.9574 - val_loss: 2.0831 - val_accuracy: 0.7790\n",
            "Epoch 43/50\n",
            "63/63 [==============================] - 1s 12ms/step - loss: 0.0711 - accuracy: 0.9577 - val_loss: 2.1930 - val_accuracy: 0.7740\n",
            "Epoch 44/50\n",
            "63/63 [==============================] - 1s 12ms/step - loss: 0.0708 - accuracy: 0.9593 - val_loss: 2.2881 - val_accuracy: 0.7640\n",
            "Epoch 45/50\n",
            "63/63 [==============================] - 1s 12ms/step - loss: 0.0698 - accuracy: 0.9582 - val_loss: 2.2981 - val_accuracy: 0.7710\n",
            "Epoch 46/50\n",
            "63/63 [==============================] - 1s 12ms/step - loss: 0.0704 - accuracy: 0.9579 - val_loss: 2.2241 - val_accuracy: 0.7780\n",
            "Epoch 47/50\n",
            "63/63 [==============================] - 1s 12ms/step - loss: 0.0675 - accuracy: 0.9588 - val_loss: 2.3641 - val_accuracy: 0.7800\n",
            "Epoch 48/50\n",
            "63/63 [==============================] - 1s 12ms/step - loss: 0.0682 - accuracy: 0.9587 - val_loss: 2.2977 - val_accuracy: 0.7850\n",
            "Epoch 49/50\n",
            "63/63 [==============================] - 1s 11ms/step - loss: 0.0671 - accuracy: 0.9594 - val_loss: 2.3464 - val_accuracy: 0.7810\n",
            "Epoch 50/50\n",
            "63/63 [==============================] - 1s 11ms/step - loss: 0.0660 - accuracy: 0.9584 - val_loss: 2.5503 - val_accuracy: 0.7780\n"
          ]
        }
      ]
    },
    {
      "cell_type": "code",
      "metadata": {
        "id": "Z3Xt90BLE1UL",
        "colab": {
          "base_uri": "https://localhost:8080/",
          "height": 295
        },
        "outputId": "6c0e01f8-216a-49e7-8bed-93ec62bed965"
      },
      "source": [
        "#show trends of training and validation loss\n",
        "import matplotlib.pyplot as plt\n",
        "\n",
        "loss = history.history['loss']\n",
        "val_loss = history.history['val_loss']\n",
        "\n",
        "epochs = range(1, len(loss) + 1)\n",
        "\n",
        "plt.plot(epochs, loss, 'bo', label='Training loss')\n",
        "plt.plot(epochs, val_loss, 'b', label='Validation loss')\n",
        "plt.title('Training and validation loss')\n",
        "plt.xlabel('Epochs')\n",
        "plt.ylabel('Loss')\n",
        "plt.legend()\n",
        "\n",
        "plt.show()"
      ],
      "execution_count": 89,
      "outputs": [
        {
          "output_type": "display_data",
          "data": {
            "image/png": "[encoded data removed]",
            "text/plain": [
              "<Figure size 432x288 with 1 Axes>"
            ]
          },
          "metadata": {
            "needs_background": "light"
          }
        }
      ]
    },
    {
      "cell_type": "code",
      "metadata": {
        "id": "3MhhBlouFpwF",
        "colab": {
          "base_uri": "https://localhost:8080/",
          "height": 295
        },
        "outputId": "f09b47a9-4017-4917-8fe7-dc1e4fba5d96"
      },
      "source": [
        "#show trends of training and validation accuracy\n",
        "plt.clf()   # clf-clear figure\n",
        "\n",
        "acc = history.history['accuracy']\n",
        "val_acc = history.history['val_accuracy']\n",
        "\n",
        "plt.plot(epochs, acc, 'bo', label='Training acc')\n",
        "plt.plot(epochs, val_acc, 'b', label='Validation acc')\n",
        "plt.title('Training and validation accuracy')\n",
        "plt.xlabel('Epochs')\n",
        "plt.ylabel('Loss')\n",
        "plt.legend()\n",
        "\n",
        "plt.show()"
      ],
      "execution_count": 90,
      "outputs": [
        {
          "output_type": "display_data",
          "data": {
            "image/png": "[encoded data removed]",
            "text/plain": [
              "<Figure size 432x288 with 1 Axes>"
            ]
          },
          "metadata": {
            "needs_background": "light"
          }
        }
      ]
    },
    {
      "cell_type": "code",
      "metadata": {
        "id": "UEQZ3Q8rGZkl",
        "colab": {
          "base_uri": "https://localhost:8080/"
        },
        "outputId": "0bee8787-66aa-450e-c150-c64e05863ca0"
      },
      "source": [
        "results = model.evaluate(x_test, one_hot_test_labels)\n"
      ],
      "execution_count": 91,
      "outputs": [
        {
          "output_type": "stream",
          "name": "stdout",
          "text": [
            "71/71 [==============================] - 0s 2ms/step - loss: 3.0915 - accuracy: 0.7622\n"
          ]
        }
      ]
    },
    {
      "cell_type": "code",
      "metadata": {
        "id": "Nb5ZNvQ8Ga33",
        "colab": {
          "base_uri": "https://localhost:8080/"
        },
        "outputId": "10bea902-15dd-4edd-8b74-c4947ad8e236"
      },
      "source": [
        "results"
      ],
      "execution_count": 92,
      "outputs": [
        {
          "output_type": "execute_result",
          "data": {
            "text/plain": [
              "[3.0915474891662598, 0.7622439861297607]"
            ]
          },
          "metadata": {},
          "execution_count": 92
        }
      ]
    },
    {
      "cell_type": "markdown",
      "metadata": {
        "id": "_1HrgpZ7Gp4t"
      },
      "source": [
        "So, the MLP approach reaches an accuracy of ~76%."
      ]
    },
    {
      "cell_type": "code",
      "metadata": {
        "id": "nlgJ10obIh-M"
      },
      "source": [
        "#let's try to improve the test accuracy with a more complex network\n",
        "from keras.models import Sequential\n",
        "from keras.layers import Dense, Dropout, Activation\n",
        "\n",
        "model = models.Sequential()\n",
        "model.add(layers.Dense(512, activation='relu', input_shape=(10000,)))\n",
        "model.add(layers.Dense(256, activation='relu'))\n",
        "model.add(Dropout(0.5))\n",
        "model.add(layers.Dense(46, activation='softmax'))"
      ],
      "execution_count": 93,
      "outputs": []
    },
    {
      "cell_type": "code",
      "metadata": {
        "id": "4vIrNzj9xFwA"
      },
      "source": [
        "model.compile(loss='categorical_crossentropy', optimizer='adam', metrics=['accuracy'])"
      ],
      "execution_count": 94,
      "outputs": []
    },
    {
      "cell_type": "code",
      "metadata": {
        "colab": {
          "base_uri": "https://localhost:8080/"
        },
        "id": "TjwLJSbVxHVD",
        "outputId": "529b253f-9724-42f0-817e-a6d3ecdc2f27"
      },
      "source": [
        "history = model.fit(partial_x_train,\n",
        "                    partial_y_train,\n",
        "                    epochs=50,\n",
        "                    batch_size=128,\n",
        "                    validation_data=(x_val, y_val))"
      ],
      "execution_count": 95,
      "outputs": [
        {
          "output_type": "stream",
          "name": "stdout",
          "text": [
            "Epoch 1/50\n",
            "63/63 [==============================] - 4s 50ms/step - loss: 1.7046 - accuracy: 0.6333 - val_loss: 1.0817 - val_accuracy: 0.7510\n",
            "Epoch 2/50\n",
            "63/63 [==============================] - 3s 48ms/step - loss: 0.7651 - accuracy: 0.8217 - val_loss: 0.8580 - val_accuracy: 0.8210\n",
            "Epoch 3/50\n",
            "63/63 [==============================] - 3s 48ms/step - loss: 0.4191 - accuracy: 0.9027 - val_loss: 0.8306 - val_accuracy: 0.8160\n",
            "Epoch 4/50\n",
            "63/63 [==============================] - 3s 48ms/step - loss: 0.2618 - accuracy: 0.9386 - val_loss: 0.8382 - val_accuracy: 0.8260\n",
            "Epoch 5/50\n",
            "63/63 [==============================] - 3s 47ms/step - loss: 0.1981 - accuracy: 0.9496 - val_loss: 0.8567 - val_accuracy: 0.8220\n",
            "Epoch 6/50\n",
            "63/63 [==============================] - 3s 48ms/step - loss: 0.1709 - accuracy: 0.9540 - val_loss: 0.9456 - val_accuracy: 0.8030\n",
            "Epoch 7/50\n",
            "63/63 [==============================] - 3s 48ms/step - loss: 0.1508 - accuracy: 0.9553 - val_loss: 0.9254 - val_accuracy: 0.8160\n",
            "Epoch 8/50\n",
            "63/63 [==============================] - 3s 49ms/step - loss: 0.1292 - accuracy: 0.9567 - val_loss: 0.9398 - val_accuracy: 0.8250\n",
            "Epoch 9/50\n",
            "63/63 [==============================] - 3s 49ms/step - loss: 0.1286 - accuracy: 0.9573 - val_loss: 0.9231 - val_accuracy: 0.8190\n",
            "Epoch 10/50\n",
            "63/63 [==============================] - 3s 48ms/step - loss: 0.1195 - accuracy: 0.9612 - val_loss: 0.9869 - val_accuracy: 0.8120\n",
            "Epoch 11/50\n",
            "63/63 [==============================] - 3s 49ms/step - loss: 0.1119 - accuracy: 0.9584 - val_loss: 0.9544 - val_accuracy: 0.8190\n",
            "Epoch 12/50\n",
            "63/63 [==============================] - 3s 49ms/step - loss: 0.1034 - accuracy: 0.9609 - val_loss: 0.9916 - val_accuracy: 0.8100\n",
            "Epoch 13/50\n",
            "63/63 [==============================] - 3s 48ms/step - loss: 0.1008 - accuracy: 0.9592 - val_loss: 1.0224 - val_accuracy: 0.8130\n",
            "Epoch 14/50\n",
            "63/63 [==============================] - 3s 48ms/step - loss: 0.0987 - accuracy: 0.9609 - val_loss: 1.0753 - val_accuracy: 0.8120\n",
            "Epoch 15/50\n",
            "63/63 [==============================] - 3s 48ms/step - loss: 0.0974 - accuracy: 0.9602 - val_loss: 1.0353 - val_accuracy: 0.8110\n",
            "Epoch 16/50\n",
            "63/63 [==============================] - 3s 48ms/step - loss: 0.0928 - accuracy: 0.9624 - val_loss: 1.0157 - val_accuracy: 0.8130\n",
            "Epoch 17/50\n",
            "63/63 [==============================] - 3s 48ms/step - loss: 0.0898 - accuracy: 0.9615 - val_loss: 1.0814 - val_accuracy: 0.8180\n",
            "Epoch 18/50\n",
            "63/63 [==============================] - 3s 48ms/step - loss: 0.0887 - accuracy: 0.9615 - val_loss: 1.0485 - val_accuracy: 0.8180\n",
            "Epoch 19/50\n",
            "63/63 [==============================] - 3s 48ms/step - loss: 0.0842 - accuracy: 0.9624 - val_loss: 1.0924 - val_accuracy: 0.8110\n",
            "Epoch 20/50\n",
            "63/63 [==============================] - 3s 48ms/step - loss: 0.0853 - accuracy: 0.9618 - val_loss: 1.0991 - val_accuracy: 0.8150\n",
            "Epoch 21/50\n",
            "63/63 [==============================] - 3s 48ms/step - loss: 0.0811 - accuracy: 0.9610 - val_loss: 1.0970 - val_accuracy: 0.8160\n",
            "Epoch 22/50\n",
            "63/63 [==============================] - 3s 49ms/step - loss: 0.0823 - accuracy: 0.9618 - val_loss: 1.1795 - val_accuracy: 0.8090\n",
            "Epoch 23/50\n",
            "63/63 [==============================] - 3s 48ms/step - loss: 0.0757 - accuracy: 0.9619 - val_loss: 1.1941 - val_accuracy: 0.8080\n",
            "Epoch 24/50\n",
            "63/63 [==============================] - 3s 49ms/step - loss: 0.0808 - accuracy: 0.9614 - val_loss: 1.1497 - val_accuracy: 0.8090\n",
            "Epoch 25/50\n",
            "63/63 [==============================] - 3s 48ms/step - loss: 0.0724 - accuracy: 0.9627 - val_loss: 1.2785 - val_accuracy: 0.8110\n",
            "Epoch 26/50\n",
            "63/63 [==============================] - 3s 50ms/step - loss: 0.0738 - accuracy: 0.9610 - val_loss: 1.2064 - val_accuracy: 0.8130\n",
            "Epoch 27/50\n",
            "63/63 [==============================] - 3s 49ms/step - loss: 0.0720 - accuracy: 0.9624 - val_loss: 1.1995 - val_accuracy: 0.8100\n",
            "Epoch 28/50\n",
            "63/63 [==============================] - 3s 48ms/step - loss: 0.0731 - accuracy: 0.9635 - val_loss: 1.2271 - val_accuracy: 0.8120\n",
            "Epoch 29/50\n",
            "63/63 [==============================] - 3s 48ms/step - loss: 0.0719 - accuracy: 0.9638 - val_loss: 1.2112 - val_accuracy: 0.8140\n",
            "Epoch 30/50\n",
            "63/63 [==============================] - 3s 48ms/step - loss: 0.0696 - accuracy: 0.9629 - val_loss: 1.2483 - val_accuracy: 0.8190\n",
            "Epoch 31/50\n",
            "63/63 [==============================] - 3s 48ms/step - loss: 0.0696 - accuracy: 0.9630 - val_loss: 1.2737 - val_accuracy: 0.8160\n",
            "Epoch 32/50\n",
            "63/63 [==============================] - 3s 48ms/step - loss: 0.0649 - accuracy: 0.9647 - val_loss: 1.2977 - val_accuracy: 0.8120\n",
            "Epoch 33/50\n",
            "63/63 [==============================] - 3s 48ms/step - loss: 0.0713 - accuracy: 0.9633 - val_loss: 1.2958 - val_accuracy: 0.8130\n",
            "Epoch 34/50\n",
            "63/63 [==============================] - 3s 48ms/step - loss: 0.0708 - accuracy: 0.9620 - val_loss: 1.2861 - val_accuracy: 0.8130\n",
            "Epoch 35/50\n",
            "63/63 [==============================] - 3s 49ms/step - loss: 0.0660 - accuracy: 0.9637 - val_loss: 1.3470 - val_accuracy: 0.8090\n",
            "Epoch 36/50\n",
            "63/63 [==============================] - 3s 48ms/step - loss: 0.0651 - accuracy: 0.9652 - val_loss: 1.3507 - val_accuracy: 0.8110\n",
            "Epoch 37/50\n",
            "63/63 [==============================] - 3s 48ms/step - loss: 0.0642 - accuracy: 0.9640 - val_loss: 1.3670 - val_accuracy: 0.8030\n",
            "Epoch 38/50\n",
            "63/63 [==============================] - 3s 49ms/step - loss: 0.0628 - accuracy: 0.9662 - val_loss: 1.3503 - val_accuracy: 0.8130\n",
            "Epoch 39/50\n",
            "63/63 [==============================] - 3s 48ms/step - loss: 0.0657 - accuracy: 0.9649 - val_loss: 1.4137 - val_accuracy: 0.8100\n",
            "Epoch 40/50\n",
            "63/63 [==============================] - 3s 49ms/step - loss: 0.0651 - accuracy: 0.9629 - val_loss: 1.3330 - val_accuracy: 0.8170\n",
            "Epoch 41/50\n",
            "63/63 [==============================] - 3s 49ms/step - loss: 0.0630 - accuracy: 0.9638 - val_loss: 1.3370 - val_accuracy: 0.8060\n",
            "Epoch 42/50\n",
            "63/63 [==============================] - 3s 48ms/step - loss: 0.0627 - accuracy: 0.9627 - val_loss: 1.4132 - val_accuracy: 0.8110\n",
            "Epoch 43/50\n",
            "63/63 [==============================] - 3s 48ms/step - loss: 0.0609 - accuracy: 0.9655 - val_loss: 1.4127 - val_accuracy: 0.8070\n",
            "Epoch 44/50\n",
            "63/63 [==============================] - 3s 48ms/step - loss: 0.0655 - accuracy: 0.9627 - val_loss: 1.4063 - val_accuracy: 0.8110\n",
            "Epoch 45/50\n",
            "63/63 [==============================] - 3s 48ms/step - loss: 0.0618 - accuracy: 0.9648 - val_loss: 1.4122 - val_accuracy: 0.8080\n",
            "Epoch 46/50\n",
            "63/63 [==============================] - 3s 48ms/step - loss: 0.0617 - accuracy: 0.9644 - val_loss: 1.4575 - val_accuracy: 0.8040\n",
            "Epoch 47/50\n",
            "63/63 [==============================] - 3s 48ms/step - loss: 0.0602 - accuracy: 0.9658 - val_loss: 1.5091 - val_accuracy: 0.8070\n",
            "Epoch 48/50\n",
            "63/63 [==============================] - 3s 48ms/step - loss: 0.0637 - accuracy: 0.9634 - val_loss: 1.4209 - val_accuracy: 0.8130\n",
            "Epoch 49/50\n",
            "63/63 [==============================] - 3s 48ms/step - loss: 0.0605 - accuracy: 0.9645 - val_loss: 1.5722 - val_accuracy: 0.8050\n",
            "Epoch 50/50\n",
            "63/63 [==============================] - 3s 48ms/step - loss: 0.0636 - accuracy: 0.9632 - val_loss: 1.4378 - val_accuracy: 0.8030\n"
          ]
        }
      ]
    },
    {
      "cell_type": "code",
      "metadata": {
        "colab": {
          "base_uri": "https://localhost:8080/"
        },
        "id": "MAfnvm0Gx8hR",
        "outputId": "38de5d5e-f690-4f30-d6af-3ea49a03c932"
      },
      "source": [
        "results=model.evaluate(x_test, one_hot_test_labels)"
      ],
      "execution_count": 96,
      "outputs": [
        {
          "output_type": "stream",
          "name": "stdout",
          "text": [
            "71/71 [==============================] - 1s 9ms/step - loss: 1.6783 - accuracy: 0.7961\n"
          ]
        }
      ]
    },
    {
      "cell_type": "code",
      "metadata": {
        "colab": {
          "base_uri": "https://localhost:8080/"
        },
        "id": "dZ-Yuq4gyuUJ",
        "outputId": "d4adbb38-d08e-40c4-b3df-1ee2140198cc"
      },
      "source": [
        "results"
      ],
      "execution_count": 97,
      "outputs": [
        {
          "output_type": "execute_result",
          "data": {
            "text/plain": [
              "[1.6782790422439575, 0.7960819005966187]"
            ]
          },
          "metadata": {},
          "execution_count": 97
        }
      ]
    },
    {
      "cell_type": "markdown",
      "metadata": {
        "id": "OnJKsKc5yp5D"
      },
      "source": [
        "So, the accuracy reached ~80% with a more complex network and drop out."
      ]
    },
    {
      "cell_type": "code",
      "metadata": {
        "colab": {
          "base_uri": "https://localhost:8080/",
          "height": 1000
        },
        "id": "IyOomVDx06Dq",
        "outputId": "62400651-4710-492e-a3e4-74fa648059a9"
      },
      "source": [
        "#let's get the predicted labels and visualize the predictions in a confusion matrix\n",
        "import pandas as pd\n",
        "import seaborn as sns\n",
        "\n",
        "y_pred = model.predict(x_test)\n",
        "y_pred = np.argmax(y_pred,axis=1)\n",
        "y_pred = pd.Series(y_pred, name='Predicted')\n",
        "y_test = pd.Series(test_labels, name='Actual')\n",
        "df_confusion  = pd.crosstab(y_test,y_pred, rownames=['Actual'], colnames=['Predicted'])\n",
        "print(df_confusion)\n",
        "plt.figure(figsize = (20,20))\n",
        "plt.xlabel('xlabel', fontsize=18)\n",
        "plt.ylabel('ylabel', fontsize=18)\n",
        "plt.title('Confusion Matrix',fontsize=20)\n",
        "sns.heatmap(df_confusion, annot=True,fmt=\"d\")"
      ],
      "execution_count": 98,
      "outputs": [
        {
          "output_type": "stream",
          "name": "stdout",
          "text": [
            "Predicted  0   1   2    3    4   6   7   8   ...  37  38  39  40  41  42  43  44\n",
            "Actual                                       ...                                \n",
            "0           9   1   0    0    1   0   0   0  ...   0   0   0   0   0   0   0   0\n",
            "1           0  82   0    5    7   0   0   0  ...   0   0   0   0   0   0   0   0\n",
            "2           0   2  15    0    0   0   0   0  ...   0   0   0   0   0   0   0   0\n",
            "3           0   4   1  759   32   0   0   1  ...   0   1   0   0   0   0   0   1\n",
            "4           1   5   0   22  420   1   0   0  ...   0   0   0   0   0   0   1   0\n",
            "5           0   5   0    0    0   0   0   0  ...   0   0   0   0   0   0   0   0\n",
            "6           0   0   0    0    1  13   0   0  ...   0   0   0   0   0   0   0   0\n",
            "7           0   1   0    1    0   0   1   0  ...   0   0   0   0   0   0   0   0\n",
            "8           0   1   0    2    4   0   0  27  ...   0   0   0   0   1   0   0   0\n",
            "9           0   1   0    0    1   0   0   1  ...   0   0   0   0   0   0   0   0\n",
            "10          0   0   0    0    0   1   0   0  ...   0   0   0   0   0   0   0   0\n",
            "11          0   3   1    2    4   0   0   0  ...   0   0   0   0   0   0   0   0\n",
            "12          0   1   0    0    2   0   0   3  ...   0   0   0   0   0   0   0   0\n",
            "13          0   1   0    1    3   0   0   0  ...   0   0   0   0   0   0   0   0\n",
            "14          0   1   0    0    0   0   0   0  ...   0   0   0   0   0   0   0   0\n",
            "15          0   2   0    1    1   0   0   0  ...   0   0   0   0   0   0   0   1\n",
            "16          0   0   0    8    8   0   0   0  ...   0   0   0   0   0   0   0   0\n",
            "17          0   1   0    1    1   0   0   0  ...   0   0   0   0   0   0   0   0\n",
            "18          0   1   0    1    0   0   0   0  ...   0   0   0   0   0   0   0   0\n",
            "19          0   1   0    7    4   0   0   3  ...   0   0   0   0   0   0   0   0\n",
            "20          0   2   0    4   11   0   0   2  ...   0   0   0   0   0   0   0   0\n",
            "21          0   1   0    0    0   0   0   0  ...   0   0   0   0   0   0   0   0\n",
            "22          0   1   1    2    2   0   0   0  ...   0   0   0   0   0   0   0   0\n",
            "23          0   0   0    2    4   0   0   0  ...   0   0   0   0   0   0   0   0\n",
            "24          0   6   3    2    2   1   0   0  ...   0   0   0   0   0   0   0   0\n",
            "25          0   0   0    1    4   0   0   0  ...   0   0   0   0   0   0   0   0\n",
            "26          0   0   0    0    2   0   0   0  ...   0   0   0   0   0   0   0   0\n",
            "27          0   0   0    0    2   0   0   0  ...   0   0   0   0   0   0   0   0\n",
            "28          0   3   0    0    0   0   0   0  ...   0   0   0   0   0   0   0   0\n",
            "29          0   0   0    0    0   0   0   0  ...   0   0   0   0   0   0   0   0\n",
            "30          0   0   0    0    0   0   0   0  ...   0   0   0   0   0   0   0   0\n",
            "31          0   1   0    1    3   0   0   0  ...   1   0   0   0   0   0   0   0\n",
            "32          0   0   0    1    1   0   0   0  ...   0   0   0   0   0   0   0   0\n",
            "33          0   0   0    0    0   0   0   0  ...   0   0   0   0   0   0   0   0\n",
            "34          0   0   0    0    1   0   0   1  ...   0   0   0   0   0   0   0   0\n",
            "35          0   0   0    0    0   0   0   1  ...   0   0   0   0   0   0   0   0\n",
            "36          0   0   0    0    0   0   0   0  ...   0   0   0   0   0   0   0   0\n",
            "37          0   0   0    0    1   0   0   0  ...   1   0   0   0   0   0   0   0\n",
            "38          0   1   0    0    0   0   0   0  ...   0   1   0   0   0   0   0   0\n",
            "39          0   0   0    1    1   0   0   0  ...   0   0   1   0   0   0   0   0\n",
            "40          0   0   0    0    0   0   0   0  ...   0   0   0   3   0   0   0   0\n",
            "41          0   0   0    0    6   0   0   0  ...   0   0   0   0   1   0   0   0\n",
            "42          0   0   0    0    0   0   0   0  ...   0   0   0   0   0   1   0   0\n",
            "43          0   0   0    0    0   0   0   0  ...   0   0   0   0   0   0   6   0\n",
            "44          0   0   0    0    0   0   0   0  ...   0   0   0   0   0   0   0   4\n",
            "45          0   0   0    0    0   0   0   0  ...   1   0   0   0   0   0   0   0\n",
            "\n",
            "[46 rows x 43 columns]\n"
          ]
        },
        {
          "output_type": "execute_result",
          "data": {
            "text/plain": [
              "<matplotlib.axes._subplots.AxesSubplot at 0x7f7ff2fdbc90>"
            ]
          },
          "metadata": {},
          "execution_count": 98
        },
        {
          "output_type": "display_data",
          "data": {
            "image/png": "[encoded data removed]",
            "text/plain": [
              "<Figure size 1440x1440 with 2 Axes>"
            ]
          },
          "metadata": {
            "needs_background": "light"
          }
        }
      ]
    },
    {
      "cell_type": "code",
      "metadata": {
        "id": "y7rn58btJDbS"
      },
      "source": [
        "#let's create a transformer for classification\n",
        "import tensorflow as tf\n",
        "from tensorflow import keras\n",
        "from tensorflow.keras import layers\n",
        "\n",
        "class TransformerBlock(layers.Layer):\n",
        "    def __init__(self, embed_dim, num_heads, ff_dim, rate=0.1):\n",
        "        super(TransformerBlock, self).__init__()\n",
        "        self.att = layers.MultiHeadAttention(num_heads=num_heads, key_dim=embed_dim)\n",
        "        self.ffn = keras.Sequential(\n",
        "            [layers.Dense(ff_dim, activation=\"relu\"), layers.Dense(embed_dim),]\n",
        "        )\n",
        "        self.layernorm1 = layers.LayerNormalization(epsilon=1e-6)\n",
        "        self.layernorm2 = layers.LayerNormalization(epsilon=1e-6)\n",
        "        self.dropout1 = layers.Dropout(rate)\n",
        "        self.dropout2 = layers.Dropout(rate)\n",
        "\n",
        "    def call(self, inputs, training):\n",
        "        attn_output = self.att(inputs, inputs)\n",
        "        attn_output = self.dropout1(attn_output, training=training)\n",
        "        out1 = self.layernorm1(inputs + attn_output)\n",
        "        ffn_output = self.ffn(out1)\n",
        "        ffn_output = self.dropout2(ffn_output, training=training)\n",
        "        return self.layernorm2(out1 + ffn_output)\n"
      ],
      "execution_count": 27,
      "outputs": []
    },
    {
      "cell_type": "code",
      "metadata": {
        "id": "UPo9xsohJQL4"
      },
      "source": [
        "\n",
        "class TokenAndPositionEmbedding(layers.Layer):\n",
        "    def __init__(self, maxlen, vocab_size, embed_dim):\n",
        "        super(TokenAndPositionEmbedding, self).__init__()\n",
        "        self.token_emb = layers.Embedding(input_dim=vocab_size, output_dim=embed_dim)\n",
        "        self.pos_emb = layers.Embedding(input_dim=maxlen, output_dim=embed_dim)\n",
        "\n",
        "    def call(self, x):\n",
        "        maxlen = tf.shape(x)[-1]\n",
        "        positions = tf.range(start=0, limit=maxlen, delta=1)\n",
        "        positions = self.pos_emb(positions)\n",
        "        x = self.token_emb(x)\n",
        "        return x + positions\n"
      ],
      "execution_count": 28,
      "outputs": []
    },
    {
      "cell_type": "code",
      "metadata": {
        "id": "DhlCv2BDJjfr"
      },
      "source": [
        "\n",
        "embed_dim = 100  # Embedding size for each token\n",
        "num_heads = 1  # Number of attention heads\n",
        "ff_dim = 64  # Hidden layer size in feed forward network inside transformer\n",
        "maxlen=256\n",
        "vocab_size=10000\n",
        "\n",
        "#shortening the sequence length to fit to memory\n",
        "from keras.preprocessing.sequence import pad_sequences\n",
        "x_train_short = pad_sequences(train_data,maxlen=maxlen)\n",
        "x_test_short =  pad_sequences(test_data,maxlen=maxlen)\n",
        "\n",
        "x_val_short = x_train_short[:1000]\n",
        "partial_x_train_short = x_train_short[1000:]\n",
        "\n",
        "inputs = layers.Input(shape=(maxlen,))\n",
        "embedding_layer = TokenAndPositionEmbedding(maxlen, vocab_size, embed_dim)\n",
        "x = embedding_layer(inputs)\n",
        "transformer_block = TransformerBlock(embed_dim, num_heads, ff_dim)\n",
        "x = transformer_block(x)\n",
        "x = layers.GlobalAveragePooling1D()(x)\n",
        "x = layers.Dropout(0.1)(x)\n",
        "x = layers.Dense(200, activation=\"relu\")(x)\n",
        "x = layers.Dropout(0.1)(x)\n",
        "outputs = layers.Dense(46, activation=\"softmax\")(x)\n",
        "\n",
        "transformer_model = keras.Model(inputs=inputs, outputs=outputs)\n"
      ],
      "execution_count": 154,
      "outputs": []
    },
    {
      "cell_type": "code",
      "metadata": {
        "colab": {
          "base_uri": "https://localhost:8080/"
        },
        "id": "lc7W2-ffLTFK",
        "outputId": "61e1154e-3ce4-45d8-cea5-783c37c1564f"
      },
      "source": [
        "transformer_model.compile(\"adam\", \"categorical_crossentropy\", metrics=[\"accuracy\"])\n",
        "history = transformer_model.fit(partial_x_train_short, partial_y_train, batch_size=128, epochs=10, validation_data=(x_val_short, y_val))"
      ],
      "execution_count": 155,
      "outputs": [
        {
          "output_type": "stream",
          "name": "stdout",
          "text": [
            "Epoch 1/10\n",
            "63/63 [==============================] - 42s 640ms/step - loss: 2.2415 - accuracy: 0.4300 - val_loss: 1.7773 - val_accuracy: 0.5620\n",
            "Epoch 2/10\n",
            "63/63 [==============================] - 40s 641ms/step - loss: 1.5132 - accuracy: 0.6428 - val_loss: 1.2556 - val_accuracy: 0.7010\n",
            "Epoch 3/10\n",
            "63/63 [==============================] - 41s 643ms/step - loss: 1.0163 - accuracy: 0.7585 - val_loss: 1.0068 - val_accuracy: 0.7760\n",
            "Epoch 4/10\n",
            "63/63 [==============================] - 40s 642ms/step - loss: 0.7110 - accuracy: 0.8289 - val_loss: 0.9115 - val_accuracy: 0.7870\n",
            "Epoch 5/10\n",
            "63/63 [==============================] - 41s 646ms/step - loss: 0.5204 - accuracy: 0.8716 - val_loss: 0.9427 - val_accuracy: 0.7860\n",
            "Epoch 6/10\n",
            "63/63 [==============================] - 40s 641ms/step - loss: 0.3856 - accuracy: 0.9043 - val_loss: 0.9120 - val_accuracy: 0.8000\n",
            "Epoch 7/10\n",
            "63/63 [==============================] - 41s 646ms/step - loss: 0.2878 - accuracy: 0.9275 - val_loss: 0.9690 - val_accuracy: 0.8010\n",
            "Epoch 8/10\n",
            "63/63 [==============================] - 40s 641ms/step - loss: 0.2341 - accuracy: 0.9416 - val_loss: 1.0158 - val_accuracy: 0.7990\n",
            "Epoch 9/10\n",
            "63/63 [==============================] - 40s 642ms/step - loss: 0.1980 - accuracy: 0.9498 - val_loss: 1.1130 - val_accuracy: 0.7870\n",
            "Epoch 10/10\n",
            "63/63 [==============================] - 41s 644ms/step - loss: 0.1792 - accuracy: 0.9524 - val_loss: 1.1358 - val_accuracy: 0.7740\n"
          ]
        }
      ]
    },
    {
      "cell_type": "code",
      "metadata": {
        "colab": {
          "base_uri": "https://localhost:8080/"
        },
        "id": "IAz3_3PFpbC-",
        "outputId": "8a4a383c-cfd0-426e-8447-9bcee06d2a9a"
      },
      "source": [
        "results=transformer_model.evaluate(x_test_short, one_hot_test_labels)"
      ],
      "execution_count": 156,
      "outputs": [
        {
          "output_type": "stream",
          "name": "stdout",
          "text": [
            "71/71 [==============================] - 4s 54ms/step - loss: 1.2881 - accuracy: 0.7511\n"
          ]
        }
      ]
    }
  ]
}